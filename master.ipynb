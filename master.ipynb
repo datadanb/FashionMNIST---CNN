{
 "cells": [
  {
   "cell_type": "markdown",
   "metadata": {},
   "source": [
    "# 1 - Project setup"
   ]
  },
  {
   "cell_type": "markdown",
   "metadata": {},
   "source": [
    "## 1.1 - Loading Libraries"
   ]
  },
  {
   "cell_type": "code",
   "execution_count": 1,
   "metadata": {},
   "outputs": [],
   "source": [
    "# Step One: Loading Packages\n",
    "# General\n",
    "import numpy as np\n",
    "import pandas as pd\n",
    "from matplotlib import pyplot as plt\n",
    "import time\n",
    "\n",
    "# For loading MNIST data in\n",
    "from mlxtend.data import loadlocal_mnist\n",
    "\n",
    "# Split Train into train, validation & testing & scoring\n",
    "# Version of sklearn = 0.20.3\n",
    "from sklearn.model_selection import train_test_split, validation_curve, cross_val_score, cross_validate,GridSearchCV\n",
    "import sklearn.metrics as metrics\n",
    "\n",
    "# sklearn RF ensemble library\n",
    "from sklearn.ensemble import RandomForestClassifier\n",
    "\n",
    "# sklearn support vector machine library\n",
    "from sklearn import svm\n",
    "\n",
    "# For building CNNS with PyTorch\n",
    "import torch # Version 1.1.1\n",
    "from torch import utils, nn\n",
    "import torch.cuda as cuda\n",
    "from torch.autograd import Variable\n",
    "import torch.nn.functional as F\n",
    "\n",
    "# optimisation and utilisation function for torch\n",
    "import torch.optim as optim\n",
    "\n",
    "# Skorch is scikit-learn compatible and wraps PyTorch\n",
    "from skorch import NeuralNetClassifier # Version 0.5.0.post0\n",
    "\n",
    "# sklearn preprocessing libraries for normalisation and standardisation\n",
    "from sklearn.preprocessing import normalize, StandardScaler\n",
    "\n",
    "# Seaborn to make things look 'pretty'\n",
    "import seaborn as sns # Version 0.9.0"
   ]
  },
  {
   "cell_type": "markdown",
   "metadata": {},
   "source": [
    "## 1.2 Declaring functions for later use"
   ]
  },
  {
   "cell_type": "code",
   "execution_count": 2,
   "metadata": {},
   "outputs": [],
   "source": [
    "# configuring CUDA for offloading data to GPU\n",
    "def check_set_cuda():\n",
    "\n",
    "    # Is cuda available on this machine for GPU fun?\n",
    "    cuda_on = torch.cuda.is_available() \n",
    "    out = print(\"Is CUDA available on your machine? {}\".format(torch.cuda.is_available()))\n",
    "\n",
    "    if cuda_on == True:\n",
    "        cuda.init()\n",
    "\n",
    "        # If we're training a CNN, set the device for later CNN work\n",
    "        if cuda_on == True:        \n",
    "            print(\"You're using a : {}\".format(cuda.get_device_name(0)))   \n",
    "            device = torch.device(\"cuda:0\" if torch.cuda.is_available() else \"cpu\")\n",
    "    else:\n",
    "        device = 'cpu'\n",
    "    return(device)\n",
    "        \n",
    "    \n",
    "def read_data():    \n",
    "    # Using loadlocaL_mnist library to load local data files\n",
    "    # Data can be found at: https://github.com/zalandoresearch/fashion-mnist/tree/master/data/fashion\n",
    "    X_train, y_train = loadlocal_mnist(images_path='../Input/train-images-idx3-ubyte', labels_path='../Input/train-labels-idx1-ubyte')\n",
    "    X_test, y_test = loadlocal_mnist(images_path='../Input/t10k-images-idx3-ubyte', labels_path='../Input/t10k-labels-idx1-ubyte')\n",
    "\n",
    "\n",
    "    ## Normalise features for test & training\n",
    "    #if algo != 'svm':\n",
    "    X_train = X_train.astype('float32')\n",
    "    X_train = normalize(X_train)\n",
    "    \n",
    "    X_test = X_test.astype('float32')    \n",
    "    X_test = normalize(X_test)    \n",
    "    \n",
    "    return (X_train, y_train, X_test, y_test)\n",
    "\n",
    "def generate_cm(actuals, preds):    \n",
    "            \n",
    "    cm = metrics.confusion_matrix(actuals, preds)\n",
    "\n",
    "    # Generate and plot CM\n",
    "    fig, ax = plt.subplots(figsize=(8,8)) \n",
    "    sns.heatmap(cm, cmap='Greens',annot=True, fmt=\"d\", linewidths=3)    \n",
    "    \n",
    "    return(cm)\n"
   ]
  },
  {
   "cell_type": "markdown",
   "metadata": {},
   "source": [
    "# 2 - Building a Support Vector Machine Classifier - Polynomial & Radial Basis Function "
   ]
  },
  {
   "cell_type": "markdown",
   "metadata": {},
   "source": [
    "## 2.1 - Using Gridsearch with cross-validation to find best fit of parameters against validation"
   ]
  },
  {
   "cell_type": "code",
   "execution_count": null,
   "metadata": {},
   "outputs": [],
   "source": [
    "# https://scikit-learn.org/stable/auto_examples/model_selection/plot_grid_search_digits.html\n",
    "from sklearn.model_selection import GridSearchCV\n",
    "from sklearn.metrics import classification_report\n",
    "from sklearn.svm import SVC\n",
    "\n",
    "X_train, y_train, X_test, y_test = read_data(algo='svm')\n",
    "\n",
    "X_train, X_validate, y_train, y_validate = train_test_split(X_train, y_train, test_size = 0.2, random_state = 42)\n",
    "\n",
    "# Set the parameters by cross-validation\n",
    "tuned_parameters = [{'kernel': ['rbf'],  'C': [0.001, 0.10, 0.1, 1, 10]},\n",
    "                    {'kernel': ['sigmoid'], 'C': [0.001, 0.10, 0.1, 10]},\n",
    "                    {'kernel': ['linear'], 'C': [0.001, 0.10, 0.1, 10]}\n",
    "                   ]\n",
    "\n",
    "clf = GridSearchCV(SVC(), tuned_parameters, cv = 3, scoring= 'accuracy', n_jobs=6, verbose=2)\n",
    "\n",
    "start_time = time.time()\n",
    "\n",
    "clf.fit(X_train, y_train.ravel())\n",
    "\n",
    "end_time = time.time()\n",
    "print(\"Gridsearching train and test set takes:\", end_time - start_time, \"seconds\")\n",
    "\n",
    "print(\"Best parameters set found on development set:\")\n",
    "print()\n",
    "print(clf.best_params_)\n",
    "print()\n",
    "y_true, y_pred = y_test, clf.predict(X_test)\n",
    "print(classification_report(y_true, y_pred))"
   ]
  },
  {
   "cell_type": "markdown",
   "metadata": {},
   "source": [
    "## 2.2 Train the model for SVM - With RBF and C = 10"
   ]
  },
  {
   "cell_type": "code",
   "execution_count": null,
   "metadata": {},
   "outputs": [],
   "source": [
    "start_time = time.time()\n",
    "# Building a mukti-class SVM\n",
    "X_train, y_train, X_test, y_test = read_data()\n",
    "\n",
    "X_train, X_validate, y_train, y_validate = train_test_split(X_train, y_train, test_size = 0.2, random_state = 42)\n",
    "\n",
    "svc = svm.SVC(kernel = 'rbf', C = 0.1, gamma = 'scale', max_iter=1500,decision_function_shape = 'ovr',cache_size=4000, random_state=42, verbose=True) #kernel could also be linear, etc..\n",
    "\n",
    "# Train the model\n",
    "svc.fit(X_train, y_train)\n",
    "\n",
    "end_time = time.time()\n",
    "print(\"SVM fit time:\", end_time - start_time, \"seconds\")"
   ]
  },
  {
   "cell_type": "markdown",
   "metadata": {},
   "source": [
    "## 2.3 Carry out cross-validation for scoring (CV=10) of SVC"
   ]
  },
  {
   "cell_type": "code",
   "execution_count": null,
   "metadata": {},
   "outputs": [],
   "source": [
    "start_time = time.time()\n",
    "# Cross validation on the validation set\n",
    "scoring = ['accuracy','precision_macro', 'recall_macro', 'f1_macro']\n",
    "\n",
    "scores = cross_validate(svc, X_validate, y_validate, scoring=scoring,cv=10, n_jobs=-1)\n",
    "\n",
    "# Carry out predictions for the validation and test set\n",
    "y_validate_pred = svc.predict(X_validate)\n",
    "y_pred = svc.predict(X_test)\n",
    "\n",
    "print(\"Classification report - Validate\")\n",
    "print(metrics.classification_report(y_validate, y_validate_pred))\n",
    "\n",
    "print(\"Classification report - Test\")\n",
    "print(metrics.classification_report(y_test, y_pred))\n",
    "\n",
    "generate_cm(y_test,y_pred)\n",
    "\n",
    "end_time = time.time()\n",
    "print(\"SVM fit time:\", end_time - start_time, \"seconds\")\n"
   ]
  },
  {
   "cell_type": "markdown",
   "metadata": {},
   "source": [
    "## 2.4 Write out the SVC model for later use and submission"
   ]
  },
  {
   "cell_type": "code",
   "execution_count": null,
   "metadata": {},
   "outputs": [],
   "source": [
    "from joblib import dump, load\n",
    "\n",
    "dump(svc, '../Input/svc_rbf.joblib',compress=True)"
   ]
  },
  {
   "cell_type": "markdown",
   "metadata": {},
   "source": [
    "# 3 - Convolutional Neural Network - Setup"
   ]
  },
  {
   "cell_type": "markdown",
   "metadata": {},
   "source": [
    "## 3.1 Reshape data into a 4D tensor to get ready to build a CNN"
   ]
  },
  {
   "cell_type": "code",
   "execution_count": 3,
   "metadata": {},
   "outputs": [
    {
     "name": "stdout",
     "output_type": "stream",
     "text": [
      "Is CUDA available on your machine? False\n"
     ]
    },
    {
     "data": {
      "text/plain": [
       "((48000, 1, 28, 28), torch.Size([12000]), torch.Size([48000]))"
      ]
     },
     "execution_count": 3,
     "metadata": {},
     "output_type": "execute_result"
    }
   ],
   "source": [
    "# If we're training a CNN, set the device for later CNN work\n",
    "device = check_set_cuda()\n",
    "    \n",
    "X_train, y_train, X_test, y_test = read_data()\n",
    "\n",
    "X_train, X_validate, y_train, y_validate = train_test_split(X_train, y_train, test_size = 0.2, random_state = 42)\n",
    "\n",
    "# Reshaping to 4D for later tensor work\n",
    "X_train = X_train.reshape(-1,1,28,28)\n",
    "X_test = X_test.reshape(-1,1,28,28)\n",
    "X_validate = X_validate.reshape(-1,1,28,28)\n",
    "\n",
    "y_train = torch.tensor(y_train, dtype =torch.long, device = device)\n",
    "y_validate = torch.tensor(y_validate, dtype =torch.long, device = device)\n",
    "y_test = torch.tensor(y_test, dtype =torch.long, device = device)\n",
    "\n",
    "\n",
    "X_train.shape, y_validate.shape, y_train.shape"
   ]
  },
  {
   "cell_type": "markdown",
   "metadata": {},
   "source": [
    "## 3.2 Create & instantiate the class to build either 2 or 3-layer CNN"
   ]
  },
  {
   "cell_type": "code",
   "execution_count": 4,
   "metadata": {},
   "outputs": [],
   "source": [
    "class ConvNet(nn.Module):\n",
    "    def __init__(self):\n",
    "        super(ConvNet, self).__init__()\n",
    "        self.conv1 = nn.Conv2d(1, 32, kernel_size=5, padding=2, stride=1)    \n",
    "        self.norm1 = nn.BatchNorm2d(32)\n",
    "        self.relu1 = nn.ReLU()\n",
    "        self.pool1 = nn.MaxPool2d(2,2)\n",
    "        self.dropout1 = nn.Dropout2d(p=0.25)\n",
    "       \n",
    "        self.conv2 = nn.Conv2d(32, 64, kernel_size=5, padding=2, stride=1)\n",
    "        self.norm2 = nn.BatchNorm2d(64)\n",
    "        self.relu2 = nn.ReLU()\n",
    "        self.pool2 = nn.MaxPool2d(2,2)        \n",
    "        self.dropout2 = nn.Dropout(p=0.25)        \n",
    "        \n",
    "        self.conv3 = nn.Conv2d(64, 128, kernel_size=5, padding=2, stride=1)\n",
    "        self.norm3 = nn.BatchNorm2d(128)\n",
    "        self.relu3 = nn.ReLU()\n",
    "        self.pool3 = nn.MaxPool2d(2,2)        \n",
    "        self.dropout3 = nn.Dropout(p=0.5)        \n",
    "        \n",
    "        self.fc1 = nn.Linear(128*3*3, 10) #- 3 Layer CNN                       \n",
    "        #self.fc1 = nn.Linear(64*7*7, 10) #- 3 Layer CNN               \n",
    "        \n",
    "        \n",
    "    def forward(self, x,**kwargs):        \n",
    "        # Layer 1\n",
    "        x = self.conv1(x)\n",
    "        x = self.norm1(x)\n",
    "        x = self.relu1(x)\n",
    "        x = self.pool1(x)\n",
    "        x = self.dropout1(x)\n",
    "        \n",
    "        # Layer 2\n",
    "        x = self.conv2(x)\n",
    "        x = self.norm2(x)\n",
    "        x = self.relu2(x)\n",
    "        x = self.pool2(x)\n",
    "        x = self.dropout2(x)\n",
    "        \n",
    "        # Layer 3\n",
    "        x = self.conv3(x)\n",
    "        x = self.norm3(x)\n",
    "        x = self.relu3(x)\n",
    "        x = self.pool3(x)\n",
    "        x = self.dropout3(x)                        \n",
    "        \n",
    "        # For debugging purposes\n",
    "        #print(x.shape)\n",
    "        #x = x.view(-1,7*7*64) #- 2 Layer CNN\n",
    "        x = x.view(-1,128*3*3) #- 3 Layer CNN            \n",
    "        #x = x.view(-1,64*7*7) #- 3 Layer CNN            \n",
    "        \n",
    "        x = self.fc1(x)                                            \n",
    "        x = F.softmax(x, dim=-1)\n",
    "        return x\n",
    "    "
   ]
  },
  {
   "cell_type": "markdown",
   "metadata": {},
   "source": [
    "## 3.3 - Training the CNN model, plotting Training Loss/Validation curve + other evaluation metrics"
   ]
  },
  {
   "cell_type": "code",
   "execution_count": 14,
   "metadata": {},
   "outputs": [],
   "source": [
    "# Instantiate our cnn using Skorch's NeuralNetClassifier function\n",
    "# We can specify number of max epochs, the learning rate, optimiser, device to be used (CUDA or not)\n",
    "# Plus imporantly the optimiser and batch_size!\n",
    "\n",
    "cnn = NeuralNetClassifier(ConvNet,\n",
    "                          max_epochs=30,\n",
    "                          lr=0.0005, \n",
    "                          optimizer = optim.Adam,\n",
    "                          device=device, \n",
    "                          iterator_train_shuffle = True, \n",
    "                          criterion=torch.nn.modules.loss.CrossEntropyLoss,\n",
    "                          batch_size = 256,\n",
    "                          warm_start = False\n",
    "                         )"
   ]
  },
  {
   "cell_type": "markdown",
   "metadata": {},
   "source": [
    "## 3.4 - Train the model and carry out predictions"
   ]
  },
  {
   "cell_type": "code",
   "execution_count": 15,
   "metadata": {},
   "outputs": [
    {
     "name": "stdout",
     "output_type": "stream",
     "text": [
      "  epoch    train_loss    valid_acc    valid_loss     dur\n",
      "-------  ------------  -----------  ------------  ------\n",
      "      1        1.8269       0.8032        1.6683  3.3191\n",
      "      2        1.6656       0.8259        1.6401  3.3700\n",
      "      3        1.6472       0.8386        1.6271  3.2882\n",
      "      4        1.6377       0.8413        1.6235  3.2762\n",
      "      5        1.6321       0.8434        1.6196  3.3121\n",
      "      6        1.6280       0.8448        1.6194  3.2912\n",
      "      7        1.6211       0.8758        1.5880  3.3211\n",
      "      8        1.5968       0.8896        1.5753  3.2982\n",
      "      9        1.5880       0.8927        1.5711  3.2912\n",
      "     10        1.5811       0.9012        1.5642  3.3271\n",
      "     11        1.5776       0.9042        1.5595  3.2882\n",
      "     12        1.5723       0.9006        1.5627  3.3002\n",
      "     13        1.5691       0.9087        1.5553  3.3381\n",
      "     14        1.5672       0.9098        1.5535  3.3082\n",
      "     15        1.5655       0.9117        1.5530  3.3500\n",
      "     16        1.5628       0.9131        1.5505  3.3062\n",
      "     17        1.5615       0.9130        1.5509  3.3042\n",
      "     18        1.5587       0.9164        1.5465  3.3261\n",
      "     19        1.5567       0.9159        1.5468  3.3022\n",
      "     20        1.5548       0.9103        1.5524  3.3141\n",
      "     21        1.5538       0.9187        1.5444  3.3341\n",
      "     22        1.5525       0.9207        1.5424  3.2962\n",
      "     23        1.5507       0.9172        1.5451  3.3321\n",
      "     24        1.5503       0.9214        1.5417  3.2922\n",
      "     25        1.5478       0.9175        1.5443  3.2992\n",
      "     26        1.5470       0.9192        1.5426  3.3401\n",
      "     27        1.5456       0.9142        1.5475  3.3032\n",
      "     28        1.5439       0.9236        1.5391  3.3062\n",
      "     29        1.5433       0.9225        1.5389  3.3381\n",
      "     30        1.5417       0.9219        1.5408  3.2922\n"
     ]
    },
    {
     "data": {
      "image/png": "[encoded data removed]",
      "text/plain": [
       "<Figure size 432x288 with 1 Axes>"
      ]
     },
     "metadata": {
      "needs_background": "light"
     },
     "output_type": "display_data"
    },
    {
     "name": "stdout",
     "output_type": "stream",
     "text": [
      "Training - Validation Accuracy\n",
      "0.9165833333333333\n",
      "Test Accuracy\n",
      "0.9089\n",
      "Test - Recall score\n",
      "0.9089\n",
      "Test - Precision\n",
      "0.910905724202032\n",
      "All classes\n",
      "              precision    recall  f1-score   support\n",
      "\n",
      "           0       0.88      0.85      0.87      1000\n",
      "           1       0.99      0.98      0.98      1000\n",
      "           2       0.91      0.81      0.86      1000\n",
      "           3       0.89      0.93      0.91      1000\n",
      "           4       0.83      0.85      0.84      1000\n",
      "           5       0.99      0.97      0.98      1000\n",
      "           6       0.71      0.77      0.74      1000\n",
      "           7       0.96      0.97      0.96      1000\n",
      "           8       0.99      0.98      0.98      1000\n",
      "           9       0.97      0.97      0.97      1000\n",
      "\n",
      "   micro avg       0.91      0.91      0.91     10000\n",
      "   macro avg       0.91      0.91      0.91     10000\n",
      "weighted avg       0.91      0.91      0.91     10000\n",
      "\n"
     ]
    },
    {
     "data": {
      "image/png": "[encoded data removed]",
      "text/plain": [
       "<Figure size 576x576 with 2 Axes>"
      ]
     },
     "metadata": {
      "needs_background": "light"
     },
     "output_type": "display_data"
    }
   ],
   "source": [
    "# Manually setting the seed for reproducibility\n",
    "torch.manual_seed(42)\n",
    "\n",
    "#Time to train, and store our results in the history object for later plotting\n",
    "history = cnn.fit(X_train,y_train)\n",
    "\n",
    "# Get the history of the last CNN run\n",
    "plot_history = cnn.history\n",
    "epoch_count = range(1,cnn.max_epochs+1)\n",
    "train_losses = plot_history[:, 'train_loss']\n",
    "val_losses = plot_history[:, 'valid_loss']\n",
    "\n",
    "\n",
    "# Visualize loss history\n",
    "plt.plot(epoch_count, train_losses, 'r-')\n",
    "plt.plot(epoch_count, val_losses, 'b--')\n",
    "plt.legend(['Training Loss', 'Test Loss'])\n",
    "plt.xlabel('Epoch')\n",
    "plt.ylabel('Loss')\n",
    "plt.show();\n",
    "\n",
    "# Declare our empty lists for the predictions and test predictions\n",
    "preds = []\n",
    "preds_test = []\n",
    "\n",
    "# Create the predictions\n",
    "preds = cnn.predict(X_validate)\n",
    "preds_test = cnn.predict(X_test)\n",
    "\n",
    "# Bring the tensor back to CPU for sklearn accuracy stuff - Validation set\n",
    "y_validate_cpu = y_validate.cpu()\n",
    "y_validate_np = y_validate_cpu.numpy()\n",
    "\n",
    "# Bring the tensor back to CPU for sklearn accuracy stuff - Test set\n",
    "y_test_cpu = y_test.cpu()\n",
    "y_test_np = y_test_cpu.numpy()\n",
    "\n",
    "# Using the helper function to generate a confusion matrix\n",
    "generate_cm(y_test_np, preds_test)\n",
    "\n",
    "\n",
    "print(\"Training - Validation Accuracy\")\n",
    "print(metrics.accuracy_score(y_validate_np, preds))\n",
    "\n",
    "print(\"Test Accuracy\")\n",
    "print(metrics.accuracy_score(y_test_np, preds_test))\n",
    "\n",
    "print(\"Test - Recall score\")\n",
    "print(metrics.recall_score(y_test_np, preds_test,average='macro'))\n",
    "\n",
    "print(\"Test - Precision\")\n",
    "print(metrics.precision_score(y_test_np, preds_test, average='macro'))\n",
    "\n",
    "print(\"All classes\")\n",
    "print(metrics.classification_report(y_test_np, preds_test))"
   ]
  },
  {
   "cell_type": "markdown",
   "metadata": {},
   "source": [
    "## 3.5 Saving out our CNN to disk to re-use"
   ]
  },
  {
   "cell_type": "code",
   "execution_count": 16,
   "metadata": {},
   "outputs": [
    {
     "name": "stderr",
     "output_type": "stream",
     "text": [
      "C:\\ProgramData\\Anaconda3\\lib\\site-packages\\torch\\serialization.py:256: UserWarning: Couldn't retrieve source code for container of type ConvNet. It won't be checked for correctness upon loading.\n",
      "  \"type \" + obj.__name__ + \". It won't be checked \"\n"
     ]
    },
    {
     "data": {
      "text/plain": [
       "['../Input/cnn.joblib']"
      ]
     },
     "execution_count": 16,
     "metadata": {},
     "output_type": "execute_result"
    }
   ],
   "source": [
    "from joblib import dump, load\n",
    "\n",
    "dump(cnn, '../Input/cnn.joblib')"
   ]
  },
  {
   "cell_type": "markdown",
   "metadata": {},
   "source": [
    "# 5 - Creating RandomForest Classifiers"
   ]
  },
  {
   "cell_type": "markdown",
   "metadata": {},
   "source": [
    "## 5.1 - Applying GridSearch (with Cross Validation) to obtain the 'best' parameters for RF"
   ]
  },
  {
   "cell_type": "code",
   "execution_count": null,
   "metadata": {
    "scrolled": false
   },
   "outputs": [],
   "source": [
    "%%time\n",
    "model = RandomForestClassifier(random_state=42, n_jobs=-1) #n_jobs to use all processors \n",
    "\n",
    "X_train, y_train, X_test, y_test = read_data()\n",
    "\n",
    "X_train, X_validate, y_train, y_validate = train_test_split(X_train, y_train, test_size = 0.2, random_state = 42)\n",
    "\n",
    "param_grid = { \n",
    "    'n_estimators': [100,125, 150, 175, 200],    \n",
    "    'max_features': ['auto'],\n",
    "    'max_depth' : [30,40,50,100,150,200],\n",
    "    'criterion' :['gini', 'entropy']\n",
    "}\n",
    "\n",
    "CV_rf = GridSearchCV(estimator=model, param_grid=param_grid, cv= 3, verbose=2)\n",
    "CV_rf.fit(X_train, y_train)\n",
    "\n",
    "print(CV_rf.best_params_)"
   ]
  },
  {
   "cell_type": "markdown",
   "metadata": {},
   "source": [
    "## 5.2 - Building out the RF with the best model parameters from GridSearchCV above "
   ]
  },
  {
   "cell_type": "code",
   "execution_count": null,
   "metadata": {},
   "outputs": [],
   "source": [
    "start_time = time.time()\n",
    "\n",
    "# Read data in \n",
    "X_train, y_train, X_test, y_test = read_data()\n",
    "\n",
    "# Split data out\n",
    "X_train, X_validate, y_train, y_validate = train_test_split(X_train, y_train, test_size = 0.2, random_state = 42)\n",
    "    \n",
    "# Using best parameters from previous Gridsearch build RF classifier    \n",
    "rf = RandomForestClassifier(criterion='entropy',max_depth=100, max_features='auto',n_estimators=200, n_jobs=-1) \n",
    "rf.fit(X_train, y_train.ravel())\n",
    "end_time = time.time()\n",
    "\n",
    "print(\"RF fit time:\", end_time - start_time, \"seconds\")"
   ]
  },
  {
   "cell_type": "markdown",
   "metadata": {},
   "source": [
    "## 5.3 Carry out cross-validation (CV=10) for RF"
   ]
  },
  {
   "cell_type": "code",
   "execution_count": null,
   "metadata": {},
   "outputs": [],
   "source": [
    "y_pred_test = rf.predict(X_test)\n",
    "y_pred_test.shape\n",
    "#print(metrics.accuracy_score(y_test, y_pred_test))\n",
    "scores = cross_val_score(estimator=rf, cv=10, X=X_validate, y=y_validate, scoring='accuracy', n_jobs=-1)\n",
    "np.average(scores)"
   ]
  },
  {
   "cell_type": "markdown",
   "metadata": {},
   "source": [
    "## 5.4 - Saving out our RF to disk for later use in the 'master_tuned_models.ipynb'"
   ]
  },
  {
   "cell_type": "code",
   "execution_count": null,
   "metadata": {},
   "outputs": [],
   "source": [
    "from joblib import dump, load\n",
    "\n",
    "dump(rf, '../Input/rf.joblib',compress=True)"
   ]
  },
  {
   "cell_type": "code",
   "execution_count": null,
   "metadata": {},
   "outputs": [],
   "source": [
    "start_time = time.time()\n",
    "# Cross validation on the validation set\n",
    "scoring = ['accuracy','precision_macro', 'recall_macro', 'f1_macro']\n",
    "\n",
    "scores = cross_validate(svc, X_validate, y_validate, scoring=scoring,cv=10, n_jobs=-1)\n",
    "\n",
    "# Carry out predictions for the validation and test set\n",
    "y_validate_pred = svc.predict(X_validate)\n",
    "y_pred = svc.predict(X_test)\n",
    "\n",
    "print(\"Classification report - Validate\")\n",
    "print(metrics.classification_report(y_validate, y_validate_pred))\n",
    "\n",
    "print(\"Classification report - Test\")\n",
    "print(metrics.classification_report(y_test, y_pred))\n",
    "\n",
    "generate_cm(y_test,y_pred)\n",
    "\n",
    "end_time = time.time()\n",
    "print(\"SVM fit time:\", end_time - start_time, \"seconds\")\n"
   ]
  }
 ],
 "metadata": {
  "kernelspec": {
   "display_name": "Python 3",
   "language": "python",
   "name": "python3"
  },
  "language_info": {
   "codemirror_mode": {
    "name": "ipython",
    "version": 3
   },
   "file_extension": ".py",
   "mimetype": "text/x-python",
   "name": "python",
   "nbconvert_exporter": "python",
   "pygments_lexer": "ipython3",
   "version": "3.7.2"
  }
 },
 "nbformat": 4,
 "nbformat_minor": 2
}
